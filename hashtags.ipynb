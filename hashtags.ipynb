{
 "cells": [
  {
   "cell_type": "code",
   "execution_count": 3,
   "id": "2d28ca36-a6cc-43a0-b621-f0cc400e8ef8",
   "metadata": {
    "tags": []
   },
   "outputs": [
    {
     "name": "stdin",
     "output_type": "stream",
     "text": [
      "Ingrese un hashtag:  messi\n"
     ]
    },
    {
     "name": "stdout",
     "output_type": "stream",
     "text": [
      "Número de posteos para el hashtag messi: 22M\n"
     ]
    },
    {
     "name": "stdin",
     "output_type": "stream",
     "text": [
      "Presione Enter para ingresar otro hashtag o escriba \"salir\" para terminar:  \n"
     ]
    },
    {
     "name": "stdout",
     "output_type": "stream",
     "text": [
      "\n",
      "\n"
     ]
    },
    {
     "name": "stdin",
     "output_type": "stream",
     "text": [
      "Ingrese un hashtag:  cr7\n"
     ]
    },
    {
     "name": "stdout",
     "output_type": "stream",
     "text": [
      "Número de posteos para el hashtag cr7: 11M\n"
     ]
    },
    {
     "name": "stdin",
     "output_type": "stream",
     "text": [
      "Presione Enter para ingresar otro hashtag o escriba \"salir\" para terminar:  salir\n"
     ]
    },
    {
     "name": "stdout",
     "output_type": "stream",
     "text": [
      "\n",
      "\n",
      "Toda persona debe decidir al menos una vez en la vida,\n",
      " si se lanza a triunfar arriesgándolo todo,\n",
      " o se sienta cómodamente en su balcón\n",
      " a disfrutar del desfile de los triunfadores.\n",
      "\n",
      "\n",
      "Python Tool developed by Hernán Mendez. All rights reserved.\n",
      "\n",
      "\n"
     ]
    }
   ],
   "source": [
    "import requests\n",
    "from bs4 import BeautifulSoup\n",
    "import time\n",
    "\n",
    "def scrap():\n",
    "    hashtag = input(\"Ingrese un hashtag: \")\n",
    "    url = f'https://www.instagram.com/explore/tags/{hashtag}/'\n",
    "    response = requests.get(url)\n",
    "\n",
    "    soup = BeautifulSoup(response.content, 'html.parser')\n",
    "\n",
    "    # extract the number of posts for the hashtag\n",
    "    description = soup.find('meta', attrs={'name': 'description'})['content']\n",
    "    num_posts = description.split()[0]\n",
    "\n",
    "    print(f'Número de posteos para el hashtag {hashtag}: {num_posts}')\n",
    "\n",
    "    while True:\n",
    "        user_input = input('Presione Enter para ingresar otro hashtag o escriba \"salir\" para terminar: ')\n",
    "        if user_input.lower() == 'salir':\n",
    "            print(\"\\n\" * 1)\n",
    "            print(\"Toda persona debe decidir al menos una vez en la vida,\\n si se lanza a triunfar arriesgándolo todo,\\n o se sienta cómodamente en su balcón\\n a disfrutar del desfile de los triunfadores.\")      \n",
    "            print(\"\\n\" * 1)\n",
    "            print(\"Python Tool developed by Hernán Mendez. All rights reserved.\")\n",
    "            print(\"\\n\" * 1)\n",
    "            time.sleep(5)\n",
    "            break\n",
    "        elif user_input == '':\n",
    "            print(\"\\n\" * 1)  # Add some blank lines to clear the output\n",
    "            scrap()\n",
    "            break\n",
    "\n",
    "scrap()"
   ]
  },
  {
   "cell_type": "code",
   "execution_count": null,
   "id": "11d92f04-b0e2-4856-a29a-498072bd7294",
   "metadata": {},
   "outputs": [],
   "source": []
  }
 ],
 "metadata": {
  "kernelspec": {
   "display_name": "Python 3 (ipykernel)",
   "language": "python",
   "name": "python3"
  },
  "language_info": {
   "codemirror_mode": {
    "name": "ipython",
    "version": 3
   },
   "file_extension": ".py",
   "mimetype": "text/x-python",
   "name": "python",
   "nbconvert_exporter": "python",
   "pygments_lexer": "ipython3",
   "version": "3.11.2"
  }
 },
 "nbformat": 4,
 "nbformat_minor": 5
}
